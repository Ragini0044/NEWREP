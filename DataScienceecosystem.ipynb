{
  "metadata": {
    "kernelspec": {
      "name": "python",
      "display_name": "Python (Pyodide)",
      "language": "python"
    },
    "language_info": {
      "codemirror_mode": {
        "name": "python",
        "version": 3
      },
      "file_extension": ".py",
      "mimetype": "text/x-python",
      "name": "python",
      "nbconvert_exporter": "python",
      "pygments_lexer": "ipython3",
      "version": "3.8"
    }
  },
  "nbformat_minor": 5,
  "nbformat": 4,
  "cells": [
    {
      "id": "24afc352-a1d2-41eb-84ef-b8a00a0ca8a6",
      "cell_type": "markdown",
      "source": "# Data Science Tools and Ecosystem",
      "metadata": {
        "jp-MarkdownHeadingCollapsed": true
      }
    },
    {
      "id": "0251c6e7-2234-4b84-835f-9dc4f2bd1c02",
      "cell_type": "markdown",
      "source": "In this notebook, Data Science Tools and Ecosystem are summarized.",
      "metadata": {}
    },
    {
      "id": "b342fa05-285b-4e8b-a436-1d3d3f3689e6",
      "cell_type": "markdown",
      "source": "**Objectives :**",
      "metadata": {}
    },
    {
      "id": "bf31e105-ea33-4551-907c-45f587fbff3d",
      "cell_type": "markdown",
      "source": "Some of the popular languages that Data Scientist use are:",
      "metadata": {}
    },
    {
      "id": "e61a0eb3-7c9b-46fe-93a9-6024adb61e11",
      "cell_type": "markdown",
      "source": "1. Python\n2. R\n3. SQL",
      "metadata": {}
    },
    {
      "id": "a93916b0-a225-4b46-8424-d70f02317fb4",
      "cell_type": "markdown",
      "source": "Some of the commonly used libraries used by Data Scientists include:\n1. NumPy\n2. Pandas\n3. Matplotlib\n4. SciPy",
      "metadata": {}
    },
    {
      "id": "a6b6f469-1a13-4d6e-8eab-b9f21348946a",
      "cell_type": "markdown",
      "source": "| Data science tools |\n|--------------------|\n| Python |\n| R |\n| Pandas |\n| NumPy |\n| Scikit-learn |",
      "metadata": {}
    },
    {
      "id": "4676050c-ba01-4296-9ad8-8e062b4a37cb",
      "cell_type": "markdown",
      "source": "### below are a few examples of arithmetic expressions in Python",
      "metadata": {}
    },
    {
      "id": "3f9d328f-3e64-4e10-9618-cbbbdbd2bad8",
      "cell_type": "code",
      "source": "# This is a simple arithmetic expression to multiply yhen add expressions\n(3*4)+5",
      "metadata": {
        "trusted": true
      },
      "outputs": [
        {
          "execution_count": 2,
          "output_type": "execute_result",
          "data": {
            "text/plain": "17"
          },
          "metadata": {}
        }
      ],
      "execution_count": 2
    },
    {
      "id": "487aeba4-dfd0-49b5-827e-0775e9c21161",
      "cell_type": "code",
      "source": "# This expression will convert minutes to hours\n200/60",
      "metadata": {
        "trusted": true
      },
      "outputs": [
        {
          "execution_count": 3,
          "output_type": "execute_result",
          "data": {
            "text/plain": "3.3333333333333335"
          },
          "metadata": {}
        }
      ],
      "execution_count": 3
    },
    {
      "id": "a718cb26-796d-4fee-8742-22d6033317ca",
      "cell_type": "markdown",
      "source": "## Author",
      "metadata": {}
    },
    {
      "id": "f6d4a404-0cac-41f2-9042-278d74aa62d5",
      "cell_type": "markdown",
      "source": "RAGINI KUMARI",
      "metadata": {}
    },
    {
      "id": "6876df06-f936-4711-8ccc-5a07b38f026a",
      "cell_type": "code",
      "source": "",
      "metadata": {
        "trusted": true
      },
      "outputs": [],
      "execution_count": null
    }
  ]
}